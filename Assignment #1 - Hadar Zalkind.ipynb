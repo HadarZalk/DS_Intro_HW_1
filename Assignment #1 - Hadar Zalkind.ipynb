{
 "cells": [
  {
   "cell_type": "code",
   "execution_count": null,
   "id": "17545614",
   "metadata": {},
   "outputs": [],
   "source": [
    "# Task A \t Write a function named my_func(x1, x2, x3) that returns the value: ((x1+x2 + x3)*(x2+x3)*x3)/(x1+x2+x3)"
   ]
  },
  {
   "cell_type": "code",
   "execution_count": 55,
   "id": "07b6306d",
   "metadata": {},
   "outputs": [
    {
     "name": "stdout",
     "output_type": "stream",
     "text": [
      "input a float number 123\n",
      "input a float number -4\n",
      "input a float number -5\n"
     ]
    }
   ],
   "source": [
    "x1= input(\"input a float number \")\n",
    "x2= input(\"input a float number \")\n",
    "x3= input(\"input a float number \")\n",
    "try:\n",
    "    x1=float(x1)\n",
    "    x2=float(x2)\n",
    "    x3=float(x3)\n",
    "except:\n",
    "    print ('Error: parameters should be float')\n",
    "        \n",
    "def My_Func (x1,x2,x3):\n",
    "    b=(x1+x2+x3)\n",
    "    if b == 0:\n",
    "        print (\"Not a number – denominator equals zero\")\n",
    "    else:\n",
    "        while True:\n",
    "            try:\n",
    "                y= ((x1+x2+x3)*(x2+x3)*x3)/b\n",
    "                return (float(y))\n",
    "                break\n",
    "            except ValueError:\n",
    "                print ('None')\n",
    "\n"
   ]
  },
  {
   "cell_type": "code",
   "execution_count": 56,
   "id": "4790d480",
   "metadata": {},
   "outputs": [
    {
     "data": {
      "text/plain": [
       "45.0"
      ]
     },
     "execution_count": 56,
     "metadata": {},
     "output_type": "execute_result"
    }
   ],
   "source": [
    "My_Func (x1,x2,x3)"
   ]
  },
  {
   "cell_type": "code",
   "execution_count": 57,
   "id": "f44d74db",
   "metadata": {},
   "outputs": [],
   "source": [
    "# Task B \t Write a function named convert(hours, minutes) that takes two number and converts them to seconds"
   ]
  },
  {
   "cell_type": "code",
   "execution_count": 89,
   "id": "72f40bd0",
   "metadata": {
    "scrolled": true
   },
   "outputs": [
    {
     "name": "stdout",
     "output_type": "stream",
     "text": [
      "enter an hour you would like to convert 1\n",
      "enter a minutes you would like to convert 2\n"
     ]
    }
   ],
   "source": [
    "hours = float(input('enter an hour you would like to convert '))\n",
    "minutes = float(input('enter a minutes you would like to convert '))\n",
    "if hours <= 0 :\n",
    "    print ('input error')\n",
    "\n",
    "def Convert (hours, minutes):\n",
    "    hours *=3600\n",
    "    minutes *=60\n",
    "    print(f'the hours convert to seconds: {hours},\\nthe mintues convert to seconds {minutes},\\nhours and mintues are {hours+minutes} seconds')\n",
    "    "
   ]
  },
  {
   "cell_type": "code",
   "execution_count": 90,
   "id": "066022ae",
   "metadata": {},
   "outputs": [
    {
     "name": "stdout",
     "output_type": "stream",
     "text": [
      "the hours convert to seconds: 3600.0,\n",
      "the mintues convert to seconds 120.0,\n",
      "hours and mintues are 3720.0 seconds\n"
     ]
    }
   ],
   "source": [
    "Convert (hours, minutes)"
   ]
  },
  {
   "cell_type": "code",
   "execution_count": null,
   "id": "4b84ddcf",
   "metadata": {},
   "outputs": [],
   "source": []
  },
  {
   "cell_type": "code",
   "execution_count": null,
   "id": "a35a60dd",
   "metadata": {},
   "outputs": [],
   "source": []
  }
 ],
 "metadata": {
  "kernelspec": {
   "display_name": "Python 3 (ipykernel)",
   "language": "python",
   "name": "python3"
  },
  "language_info": {
   "codemirror_mode": {
    "name": "ipython",
    "version": 3
   },
   "file_extension": ".py",
   "mimetype": "text/x-python",
   "name": "python",
   "nbconvert_exporter": "python",
   "pygments_lexer": "ipython3",
   "version": "3.9.7"
  }
 },
 "nbformat": 4,
 "nbformat_minor": 5
}
